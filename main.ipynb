{
 "cells": [
  {
   "cell_type": "code",
   "execution_count": 1,
   "metadata": {},
   "outputs": [],
   "source": [
    "import csv\n",
    "import os\n",
    "import re\n",
    "import pandas as pd\n",
    "from sklearn.feature_extraction.text import TfidfVectorizer\n",
    "from sklearn.model_selection import train_test_split, cross_val_score, StratifiedKFold\n",
    "from sklearn.linear_model import LogisticRegression\n",
    "pathAnn = \"/Users/yayafung/Desktop/opp/OPP-115/annotations\"\n",
    "os.chdir(pathAnn)\n",
    "aDataset = []  # {index: [label, text]}\n",
    "x = []\n",
    "y = []\n",
    "typeIndex = 5\n",
    "itemIndex = 6\n",
    "start = len('\"selectedText\": \"')\n",
    "end = -2\n"
   ]
  },
  {
   "cell_type": "code",
   "execution_count": 2,
   "metadata": {},
   "outputs": [],
   "source": [
    "def tfIdf(dataset):\n",
    "    tfIdfVectorizer = TfidfVectorizer(\n",
    "        stop_words='english', use_idf=True, ngram_range=(1, 3))\n",
    "    tfIdf = tfIdfVectorizer.fit_transform(dataset.values())\n",
    "    df = pd.DataFrame(tfIdf[0].T.todense(\n",
    "    ), index=tfIdfVectorizer.get_feature_names_out(), columns=[\"TF-IDF\"])\n",
    "    df = df.sort_values('TF-IDF', ascending=False)\n",
    "    return df\n",
    "\n",
    "\n",
    "def readCsv(file_path):\n",
    "    with open(file_path) as csv_file:\n",
    "        csv_reader = csv.reader(csv_file, delimiter=',')\n",
    "        label = 0\n",
    "        for row in csv_reader:\n",
    "            if (row[4] == \"0\"):\n",
    "                label = 1\n",
    "            else:\n",
    "                label = 0\n",
    "            text = re.findall(\n",
    "                f'\"selectedText\"\\:(.*?)\"\\,', row[6])\n",
    "            if len(text) > 0:\n",
    "             #   print((row[4] == \"0\"), label, text)\n",
    "                for t in text:\n",
    "                    aDataset.append([label, t])\n",
    "                    y.append(label)\n",
    "                    x.append(t)\n"
   ]
  },
  {
   "cell_type": "code",
   "execution_count": 3,
   "metadata": {},
   "outputs": [],
   "source": [
    "for file in os.listdir():\n",
    "    # Check whether file is in text format or not\n",
    "    if file.endswith(\".csv\"):\n",
    "        file_path = f\"{pathAnn}/{file}\"\n",
    "        readCsv(file_path)\n"
   ]
  },
  {
   "cell_type": "code",
   "execution_count": 4,
   "metadata": {},
   "outputs": [],
   "source": [
    "df = pd.DataFrame(aDataset, columns=['label', 'text'])\n",
    "# print(df)\n",
    "X_train, X_test, y_train, y_test = train_test_split(\n",
    "    x, y, test_size=0.2, random_state=0)\n",
    "\n",
    "text_transformer = TfidfVectorizer(stop_words='english', ngram_range=(\n",
    "    1, 3), lowercase=True)\n",
    "X_train_text = text_transformer.fit_transform(X_train)\n",
    "X_test_text = text_transformer.transform(X_test)\n",
    "# print(y_test)\n"
   ]
  },
  {
   "cell_type": "code",
   "execution_count": 5,
   "metadata": {},
   "outputs": [
    {
     "name": "stdout",
     "output_type": "stream",
     "text": [
      "[0.99622642 0.99543518 0.99598296 0.99592209 0.99640879] 0.9959950871429012\n"
     ]
    }
   ],
   "source": [
    "logit = LogisticRegression(\n",
    "    C=5e1, solver='lbfgs', multi_class='multinomial', random_state=17, n_jobs=4, max_iter=400)\n",
    "skf = StratifiedKFold(n_splits=5, shuffle=True, random_state=17)\n",
    "cv_results = cross_val_score(\n",
    "    logit, X_train_text, y_train, cv=skf, scoring='f1_micro')\n",
    "print(cv_results, cv_results.mean())\n",
    "logit.fit(X_train_text, y_train)\n",
    "test_preds = logit.predict(X_test_text)\n"
   ]
  },
  {
   "cell_type": "code",
   "execution_count": 9,
   "metadata": {},
   "outputs": [
    {
     "name": "stdout",
     "output_type": "stream",
     "text": [
      "1\n",
      "1\n",
      "1\n",
      "1\n",
      "1\n",
      "1\n",
      "1\n",
      "1\n",
      "1\n",
      "1\n",
      "1\n",
      "1\n",
      "1\n",
      "1\n",
      "1\n",
      "1\n",
      "1\n",
      "1\n",
      "1\n",
      "1\n",
      "1\n",
      "1\n",
      "1\n",
      "1\n",
      "1\n",
      "1\n",
      "1\n",
      "1\n",
      "1\n",
      "1\n",
      "1\n",
      "1\n",
      "1\n",
      "1\n",
      "1\n",
      "1\n",
      "1\n",
      "1\n",
      "1\n",
      "1\n",
      "1\n",
      "1\n",
      "1\n",
      "1\n",
      "1\n",
      "1\n",
      "1\n",
      "1\n",
      "1\n",
      "1\n",
      "1\n",
      "1\n",
      "1\n",
      "1\n",
      "1\n",
      "1\n",
      "1\n",
      "1\n",
      "1\n",
      "1\n",
      "1\n",
      "1\n",
      "1\n",
      "1\n",
      "1\n",
      "1\n",
      "1\n",
      "1\n",
      "1\n",
      "1\n",
      "1\n",
      "1\n",
      "1\n",
      "1\n",
      "1\n",
      "1\n",
      "1\n",
      "1\n",
      "1\n",
      "1\n",
      "1\n",
      "1\n",
      "1\n",
      "1\n",
      "1\n",
      "1\n",
      "1\n",
      "1\n",
      "1\n",
      "1\n",
      "1\n",
      "1\n",
      "1\n",
      "1\n",
      "1\n",
      "1\n",
      "1\n",
      "1\n",
      "1\n",
      "1\n"
     ]
    }
   ],
   "source": [
    "count = 0\n",
    "for i in test_preds:\n",
    "    if i == 1:\n",
    "        count++\n",
    "print(count)\n",
    "print(len(test_preds))\n"
   ]
  }
 ],
 "metadata": {
  "kernelspec": {
   "display_name": "Python 3",
   "language": "python",
   "name": "python3"
  },
  "language_info": {
   "codemirror_mode": {
    "name": "ipython",
    "version": 3
   },
   "file_extension": ".py",
   "mimetype": "text/x-python",
   "name": "python",
   "nbconvert_exporter": "python",
   "pygments_lexer": "ipython3",
   "version": "3.11.0"
  },
  "orig_nbformat": 4,
  "vscode": {
   "interpreter": {
    "hash": "aee8b7b246df8f9039afb4144a1f6fd8d2ca17a180786b69acc140d282b71a49"
   }
  }
 },
 "nbformat": 4,
 "nbformat_minor": 2
}
